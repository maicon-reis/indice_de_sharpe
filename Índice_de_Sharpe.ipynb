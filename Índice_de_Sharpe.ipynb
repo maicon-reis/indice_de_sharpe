{
  "nbformat": 4,
  "nbformat_minor": 0,
  "metadata": {
    "colab": {
      "name": "Índice de Sharpe.ipynb",
      "provenance": [],
      "authorship_tag": "ABX9TyPpDIuC+VRfNRShMHs9e5na",
      "include_colab_link": true
    },
    "kernelspec": {
      "name": "python3",
      "display_name": "Python 3"
    },
    "language_info": {
      "name": "python"
    }
  },
  "cells": [
    {
      "cell_type": "markdown",
      "metadata": {
        "id": "view-in-github",
        "colab_type": "text"
      },
      "source": [
        "<a href=\"https://colab.research.google.com/github/maicon-reis/indice_de_sharpe/blob/main/%C3%8Dndice_de_Sharpe.ipynb\" target=\"_parent\"><img src=\"https://colab.research.google.com/assets/colab-badge.svg\" alt=\"Open In Colab\"/></a>"
      ]
    },
    {
      "cell_type": "markdown",
      "metadata": {
        "id": "uC8MFoWdNULT"
      },
      "source": [
        "# **Calculando o Índice de Sharpe do Ibov**"
      ]
    },
    {
      "cell_type": "code",
      "metadata": {
        "id": "TYpOW3EMW5Bg"
      },
      "source": [
        "# Instalar a biblioteca Yfinance caso seja necessário\n",
        "# !pip install -q yfinance"
      ],
      "execution_count": null,
      "outputs": []
    },
    {
      "cell_type": "code",
      "metadata": {
        "id": "hhpcZTUFWYKC"
      },
      "source": [
        "# importando as bibliotecas\n",
        "import pandas as pd\n",
        "import numpy as np\n",
        "import matplotlib.pyplot as plt\n",
        "import datetime as dt\n",
        "\n",
        "import yfinance as yf"
      ],
      "execution_count": null,
      "outputs": []
    },
    {
      "cell_type": "code",
      "metadata": {
        "colab": {
          "base_uri": "https://localhost:8080/"
        },
        "id": "hLz3Buz0XBce",
        "outputId": "7c798bb4-79eb-46dc-d332-1fc493670c41"
      },
      "source": [
        "# Download do Preço de Fechamento Ajustado do IBOV\n",
        "dados = yf.download( \"^BVSP\", start=dt.datetime(2012, 1, 1), end=dt.datetime.now() )['Adj Close']"
      ],
      "execution_count": null,
      "outputs": [
        {
          "output_type": "stream",
          "name": "stdout",
          "text": [
            "\r[*********************100%***********************]  1 of 1 completed\n"
          ]
        }
      ]
    },
    {
      "cell_type": "code",
      "metadata": {
        "colab": {
          "base_uri": "https://localhost:8080/"
        },
        "id": "uZBHkwW5APv8",
        "outputId": "cb286bf5-8eb2-4212-95a5-453d83f09e9d"
      },
      "source": [
        "dados.head()"
      ],
      "execution_count": null,
      "outputs": [
        {
          "output_type": "execute_result",
          "data": {
            "text/plain": [
              "Date\n",
              "2012-01-03    59265.0\n",
              "2012-01-04    59365.0\n",
              "2012-01-05    58546.0\n",
              "2012-01-06    58600.0\n",
              "2012-01-09    59083.0\n",
              "Name: Adj Close, dtype: float64"
            ]
          },
          "metadata": {},
          "execution_count": 23
        }
      ]
    },
    {
      "cell_type": "code",
      "metadata": {
        "colab": {
          "base_uri": "https://localhost:8080/"
        },
        "id": "luvunUFMAVA8",
        "outputId": "bb1e5b71-0edd-4e7c-d296-4abda1021d59"
      },
      "source": [
        "# Calculando os retornos diários\n",
        "ret_a = dados.pct_change()\n",
        "\n",
        "# Cálculo do retorno ajustado ao risco\n",
        "ret_adj_a = np.mean(ret_a) / np.std(ret_a)\n",
        "ret_adj_a"
      ],
      "execution_count": null,
      "outputs": [
        {
          "output_type": "execute_result",
          "data": {
            "text/plain": [
              "0.02515104976584169"
            ]
          },
          "metadata": {},
          "execution_count": 24
        }
      ]
    },
    {
      "cell_type": "code",
      "metadata": {
        "colab": {
          "base_uri": "https://localhost:8080/"
        },
        "id": "BpV5nmiqBDhb",
        "outputId": "085519f9-146f-4462-bd2f-3939b8cb6847"
      },
      "source": [
        "# Cálculo do retorno ajustado ao risco anualizado\n",
        "ret_anual_a = ret_adj_a * np.sqrt(252)\n",
        "ret_anual_a"
      ],
      "execution_count": null,
      "outputs": [
        {
          "output_type": "execute_result",
          "data": {
            "text/plain": [
              "0.3992605373557585"
            ]
          },
          "metadata": {},
          "execution_count": 25
        }
      ]
    },
    {
      "cell_type": "code",
      "metadata": {
        "colab": {
          "base_uri": "https://localhost:8080/"
        },
        "id": "CESuh9hTU2IU",
        "outputId": "2ac6fc3d-70de-495c-bb72-cb18e7f9283d"
      },
      "source": [
        "# taxa livre de risco\n",
        "livreDeRisco = 0.0625\n",
        "\n",
        "# Calculando o Índice Sharpe\n",
        "sharpe_a = np.mean(ret_a - (livreDeRisco/365)) / np.std(ret_a) * np.sqrt(252)\n",
        "sharpe_a"
      ],
      "execution_count": null,
      "outputs": [
        {
          "output_type": "execute_result",
          "data": {
            "text/plain": [
              "0.22934017521921582"
            ]
          },
          "metadata": {},
          "execution_count": 26
        }
      ]
    }
  ]
}